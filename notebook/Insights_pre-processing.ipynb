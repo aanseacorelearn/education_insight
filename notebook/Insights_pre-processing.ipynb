{
  "cells": [
    {
      "attachments": {},
      "cell_type": "markdown",
      "metadata": {
        "nteract": {
          "transient": {
            "deleting": false
          }
        }
      },
      "source": [
        "# Insights Module Ingestion - Pre-Processing\n",
        "\n",
        "This notebook demonstrates the utility of the OEA_py class notebook, by adding the unique primary key column to the AadGroupMembership table pre-ingestion. Once the column is added, the table is overwritten in stage1.\n",
        "\n",
        "The steps outlined below describe how this notebook is used to correct the Microsoft Education Insights module AadGroupMembership table:\n",
        "- Set the workspace for where the AadGroupMembership table is to be corrected. \n",
        "- Read in the original CSV landed in ```stage1/Transactional/M365/v1.14/AadGroupMembership``` and add the primary key column. Overwrite the CSV (and remove any additional rundate folders, as described by the method below).\n",
        "- 1 function is defined and used:\n",
        "   1. **clean_data_lake_latest**: removes any additional folders in the data lake for a location, keeping only the latest rundate folder.\n",
        "\n",
        "**This notebook may either need updating or removal from pipeline, when processing production data.**"
      ]
    },
    {
      "cell_type": "code",
      "execution_count": null,
      "metadata": {
        "jupyter": {
          "outputs_hidden": false,
          "source_hidden": false
        },
        "nteract": {
          "transient": {
            "deleting": false
          }
        },
        "tags": [
          "parameters"
        ]
      },
      "outputs": [],
      "source": [
        "workspace = 'dev'\n",
        "version = '1.4.0'"
      ]
    },
    {
      "cell_type": "code",
      "execution_count": null,
      "metadata": {
        "jupyter": {
          "outputs_hidden": false,
          "source_hidden": false
        },
        "nteract": {
          "transient": {
            "deleting": false
          }
        }
      },
      "outputs": [],
      "source": [
        "%run OEA_py"
      ]
    },
    {
      "cell_type": "code",
      "execution_count": null,
      "metadata": {
        "jupyter": {
          "outputs_hidden": false,
          "source_hidden": false
        },
        "nteract": {
          "transient": {
            "deleting": false
          }
        }
      },
      "outputs": [],
      "source": [
        "# 1) set the workspace (this determines where in the data lake you'll be writing to and reading from).\n",
        "# You can work in 'dev', 'prod', or a sandbox with any name you choose.\n",
        "# For example, Sam the developer can create a 'sam' workspace and expect to find his datasets in the data lake under oea/sandboxes/sam\n",
        "oea.set_workspace(workspace)"
      ]
    },
    {
      "cell_type": "code",
      "execution_count": null,
      "metadata": {
        "collapsed": false,
        "jupyter": {
          "outputs_hidden": false,
          "source_hidden": false
        },
        "nteract": {
          "transient": {
            "deleting": false
          }
        }
      },
      "outputs": [],
      "source": [
        "# 2) read in the original AadGroupMembership table, add the primary key column and confirm it has been added.\n",
        "df = spark.read.format('csv').load(oea.to_url('stage1/Transactional/M365/v' + version + '/graduationRatesbySubgroup'), header='false')\n",
        "df_corrected = df.withColumn('_c5', F.concat(F.col('_c0'),F.lit('_'),F.col('_c1')))\n",
        "df_corrected = df_corrected.select('_c0', '_c1', '_c2', '_c3', '_c4', '_c5')\n",
        "display(df_corrected.limit(10))"
      ]
    },
    {
      "cell_type": "code",
      "execution_count": null,
      "metadata": {
        "jupyter": {
          "outputs_hidden": false,
          "source_hidden": false
        },
        "nteract": {
          "transient": {
            "deleting": false
          }
        }
      },
      "outputs": [],
      "source": [
        "# 2.5) set the current date and time (using the correct format), and write out to the same relative location, with a new rundate partition-folder.\n",
        "import datetime\n",
        "currentDate = datetime.datetime.now()\n",
        "currentDateTime = currentDate.strftime(\"%Y-%m-%d %H:%M:%S\")\n",
        "table_path = 'stage1/Transactional/M365/v' + version + '/graduationRatesbySubgroup/snapshot_batch_data/rundate=' + currentDateTime\n",
        "df_corrected.write.save(oea.to_url(table_path), format='csv', mode='overwrite', overwriteSchema='true', header='false')"
      ]
    },
    {
      "cell_type": "code",
      "execution_count": null,
      "metadata": {
        "jupyter": {
          "outputs_hidden": false,
          "source_hidden": false
        },
        "nteract": {
          "transient": {
            "deleting": false
          }
        }
      },
      "outputs": [],
      "source": [
        "# 3) only house the latest rundate folder compared to the old data (which didn't have the primary key column).\n",
        "def clean_data_lake_latest(source_path):\n",
        "    latest_folder = oea.get_latest_folder(source_path)\n",
        "    items = mssparkutils.fs.ls(oea.to_url(source_path))\n",
        "    for item in items:\n",
        "        if item.name != latest_folder:\n",
        "            logger.info('file removal path: ' + item.path + ' with item: ' + item.name)\n",
        "            oea.rm_if_exists(source_path + '/' + item.name)\n",
        "            logger.info('Successfully removed folder: ' + item.name + ' from path: ' + item.path)\n",
        "        else:\n",
        "            logger.info('Kept folder: ' + item.name + ' from path: ' + item.path)\n",
        "    logger.info('Finished cleaning data lake to house only the latest folder')"
      ]
    },
    {
      "cell_type": "code",
      "execution_count": null,
      "metadata": {
        "jupyter": {
          "outputs_hidden": false,
          "source_hidden": false
        },
        "nteract": {
          "transient": {
            "deleting": false
          }
        }
      },
      "outputs": [],
      "source": [
        "clean_data_lake_latest('stage1/Transactional/M365/v' + version + '/graduationRatesbySubgroup/snapshot_batch_data')"
      ]
    },
    {
      "cell_type": "code",
      "execution_count": null,
      "metadata": {
        "jupyter": {
          "outputs_hidden": false,
          "source_hidden": false
        },
        "nteract": {
          "transient": {
            "deleting": false
          }
        }
      },
      "outputs": [],
      "source": [
        "# 4) ad hoc work - remove the _SUCCESS file, otherwise this will throw an error when ingesting the table.\n",
        "table_path = 'stage1/Transactional/M365/v'+version+'/graduationRatesbySubgroup/snapshot_batch_data/rundate=' + currentDateTime\n",
        "oea.rm_if_exists(table_path + '/_SUCCESS', False)"
      ]
    }
  ],
  "metadata": {
    "description": null,
    "kernelspec": {
      "display_name": "Synapse PySpark",
      "name": "synapse_pyspark"
    },
    "language_info": {
      "name": "python"
    },
    "save_output": true
  },
  "nbformat": 4,
  "nbformat_minor": 2
}
